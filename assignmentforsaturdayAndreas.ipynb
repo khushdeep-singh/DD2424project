{
 "cells": [
  {
   "cell_type": "markdown",
   "metadata": {},
   "source": [
    "# Inital setup"
   ]
  },
  {
   "cell_type": "code",
   "execution_count": 1,
   "metadata": {
    "scrolled": true
   },
   "outputs": [
    {
     "name": "stdout",
     "output_type": "stream",
     "text": [
      "using device cuda:0\n"
     ]
    }
   ],
   "source": [
    "import time\n",
    "\n",
    "import torch \n",
    "import torchvision\n",
    "import torchvision.models as models\n",
    "import torchvision.transforms as transforms\n",
    "import torch.nn as nn\n",
    "import torch.nn.init as init\n",
    "import torch.nn.functional as F\n",
    "import torch.optim as optim\n",
    "\n",
    "import resnet as rnet\n",
    "\n",
    "import matplotlib.pyplot as plt\n",
    "import numpy as np\n",
    "\n",
    "cuda_available = torch.cuda.is_available()\n",
    "device = torch.device(\"cuda:0\" if cuda_available else \"cpu\")\n",
    "print(f\"using device {device}\")\n",
    "\n",
    "path = \"./\""
   ]
  },
  {
   "cell_type": "markdown",
   "metadata": {},
   "source": [
    "### Help functions"
   ]
  },
  {
   "cell_type": "code",
   "execution_count": 2,
   "metadata": {},
   "outputs": [],
   "source": [
    "def validateFunc(model, val_loader, batches):\n",
    "    valacc = []\n",
    "    \n",
    "    model.eval()\n",
    "\n",
    "    for i, (images, targets) in enumerate(val_loader):\n",
    "        if i >= batches:\n",
    "            break\n",
    "        if cuda_available: \n",
    "            images = images.cuda()\n",
    "            targets = targets.cuda()\n",
    "\n",
    "        t = time.time()\n",
    "        prediction = model.forward(images)\n",
    "\n",
    "        valacc = valacc + [get_xent_acc(prediction, targets)]\n",
    "        \n",
    "    model.train()\n",
    "    \n",
    "    return valacc"
   ]
  },
  {
   "cell_type": "code",
   "execution_count": 3,
   "metadata": {},
   "outputs": [],
   "source": [
    "def make_oneh(labels):\n",
    "    oneh_labels = np.zeros([labels.shape[0], 10])\n",
    "    indexes = np.array([np.arange(0,labels.shape[0]), labels.numpy()])\n",
    "    oneh_labels[tuple(indexes)] = 1.0\n",
    "    return torch.tensor(oneh_labels).long()\n",
    "def get_xent_acc(prediction, labels):\n",
    "    prediction = prediction.cpu().data.numpy()\n",
    "    labels = labels.cpu().data.numpy()\n",
    "    predicted_labels = np.argmax(prediction,1)\n",
    "    return sum((predicted_labels - labels) == 0)/predicted_labels.shape[0]\n",
    "def xent_softmax(prediction):\n",
    "    pred = np.exp(prediction.cpu().data.numpy())\n",
    "    divide = np.repeat(pred.sum(1).reshape(pred.shape[0],1), pred.shape[1],1)\n",
    "    pred = np.divide(pred,divide)\n",
    "    return pred "
   ]
  },
  {
   "cell_type": "code",
   "execution_count": 15,
   "metadata": {
    "scrolled": false
   },
   "outputs": [],
   "source": [
    "def trainFunc(model, lossfn, optimizer, data_loader, val_loader, n_epochs=1, validation_interval=10):\n",
    "    start    = time.time()\n",
    "    accuracy = [] \n",
    "    loss     = []\n",
    "    valacc   = []\n",
    "\n",
    "    model.train()\n",
    "    \n",
    "    print(\"starting training\")\n",
    "    \n",
    "    updateStep = 0\n",
    "    for epoch in range(n_epochs):\n",
    "        data_iterator = iter(data_loader)\n",
    "        for i, (images, labels) in enumerate(data_iterator):\n",
    "            t = time.time()\n",
    "\n",
    "            f\"\"\"if we use GPU, input- and target-tensors must be loaded on GPU as well.\"\"\"\n",
    "            if cuda_available: \n",
    "                images = images.cuda()\n",
    "                labels = labels.cuda()\n",
    "\n",
    "            prediction = model.forward(images)\n",
    "            output     = lossfn(prediction, labels)\n",
    "\n",
    "            accuracy = accuracy + [get_xent_acc(prediction, labels)]\n",
    "            loss     = loss + [output]\n",
    "\n",
    "            optimizer.zero_grad()\n",
    "            output.backward() # calculates gradients \n",
    "            optimizer.step()  # updates weights\n",
    "\n",
    "            if validation_interval > 0 and updateStep % validation_interval == 0:\n",
    "                valacc = valacc + validateFunc(model, val_loader, 1)\n",
    "            updateStep += 1\n",
    "\n",
    "        print(f\"\"\"time passed after training {epoch} epochs is {time.time()-start} seconds\"\"\")\n",
    "    return (accuracy, loss, valacc)\n",
    "\n",
    "def cuda(thing):\n",
    "    if cuda_available:\n",
    "        return thing.cuda()\n",
    "    return thing\n",
    "\n",
    "def range_test(net,opt,dataloader,lossfn,min_lr,max_lr,iterations,batchsize):\n",
    "    scheduler = torch.optim.lr_scheduler.CyclicLR(opt, min_lr, max_lr, \n",
    "                                                  step_size_up=iterations, step_size_down=0, \n",
    "                                                  base_momentum=0,\n",
    "                                                  mode='triangular', cycle_momentum=False)\n",
    "    start    = time.time()\n",
    "    time_int = 100\n",
    "    \n",
    "    accuracy  = []\n",
    "    loss      = []\n",
    "    interval  = 5\n",
    "    i         = 0\n",
    "    while i < iterations:\n",
    "        datait = iter(dataloader)\n",
    "        for n, (images, labels) in enumerate(datait):\n",
    "            images, labels = cuda(images), cuda(labels)\n",
    "            prediction = net.forward(images)\n",
    "            output     = lossfn(prediction, labels)\n",
    "            # Use accuracy on training-set\n",
    "            if i % interval == 0:\n",
    "                accuracy   = accuracy + [get_xent_acc(prediction, labels)]\n",
    "                loss       = loss + [output]\n",
    "            opt.zero_grad()   # clear gradients from previous time-step \n",
    "            output.backward() # calculates gradients \n",
    "            opt.step()        # updates weights\n",
    "            scheduler.step()  # change learning-rate in range_optimizer\n",
    "            if i % time_int == 0:\n",
    "                print(f\"time after {i} iterations: {time.time() - start} seconds\")\n",
    "                \n",
    "            i += 1\n",
    "            if i >= iterations:\n",
    "                break\n",
    "                \n",
    "    print(f\"time after {i} iterations: {time.time() - start} seconds\")\n",
    "            \n",
    "    f\"\"\"make and save plot of accuracy\"\"\"\n",
    "    x1, x2 = [np.linspace(min_lr, max_lr, num) for num in [len(accuracy), len(loss)]]\n",
    "    plt.plot(x1, np.array(accuracy))\n",
    "    momentum = opt.param_groups[-1]['momentum']\n",
    "    weightdecay = opt.param_groups[-1]['weight_decay']\n",
    "    save_file = path+f\"/rangetest/acc_bs{batchsize}_minlr{min_lr}_maxlr{max_lr}_iterations{iterations}_momentum{momentum}_weightdecy{weightdecay}.png\"\n",
    "    plt.savefig(save_file)\n",
    "    plt.show()\n",
    "    return accuracy, loss"
   ]
  },
  {
   "cell_type": "markdown",
   "metadata": {},
   "source": [
    "### create loss function \n",
    "#### https://medium.com/udacity-pytorch-challengers/a-brief-overview-of-loss-functions-in-pytorch-c0ddb78068f7"
   ]
  },
  {
   "cell_type": "code",
   "execution_count": 5,
   "metadata": {},
   "outputs": [],
   "source": [
    "loss_xent = nn.CrossEntropyLoss()\n",
    "loss_mse  = nn.MSELoss()"
   ]
  },
  {
   "cell_type": "markdown",
   "metadata": {},
   "source": [
    "### play with forward and backwards pass"
   ]
  },
  {
   "cell_type": "code",
   "execution_count": 16,
   "metadata": {},
   "outputs": [],
   "source": [
    "def getNet(batch_size, min_lr=None, max_lr=None, iterations=None):\n",
    "    # Configure\n",
    "    resnet = rnet.resnet56()\n",
    "    optimizer = optim.SGD(resnet.parameters(),\n",
    "                          lr=0.1,\n",
    "                          momentum=0.95,\n",
    "                          weight_decay=1e-4)\n",
    "    rt_optimizer = optim.SGD(resnet.parameters(),\n",
    "                          lr=0.1,\n",
    "                          momentum=0,\n",
    "                          weight_decay=0)\n",
    "    \n",
    "    scheduler = None\n",
    "    if min_lr != None and max_lr != None:\n",
    "        scheduler = torch.optim.lr_scheduler.CyclicLR(optimizer, min_lr, max_lr, \n",
    "                                                  step_size_up=iterations, step_size_down=iterations, \n",
    "                                                  base_momentum=0.95,\n",
    "                                                  mode='triangular', cycle_momentum=False)\n",
    "\n",
    "    normalize = transforms.Normalize(mean=[0.485, 0.456, 0.406],\n",
    "                                         std=[0.229, 0.224, 0.225])\n",
    "\n",
    "    data_loader = torch.utils.data.DataLoader(\n",
    "            torchvision.datasets.CIFAR10(path, train=True, transform=transforms.Compose([\n",
    "                #transforms.RandomHorizontalFlip(),\n",
    "                #transforms.RandomCrop(32, 4),\n",
    "                transforms.ToTensor(),\n",
    "                normalize,\n",
    "            ]), download=True),\n",
    "            batch_size=batch_size, shuffle=True,\n",
    "            num_workers=0, pin_memory=True)\n",
    "\n",
    "    val_loader = torch.utils.data.DataLoader(\n",
    "        torchvision.datasets.CIFAR10(path, train=False, transform=transforms.Compose([\n",
    "            transforms.ToTensor(),\n",
    "            normalize,\n",
    "        ]), download=True),\n",
    "        batch_size=batch_size, shuffle=False,\n",
    "        num_workers=0, pin_memory=True)\n",
    "    \n",
    "    cuda(resnet)\n",
    "    \n",
    "    return (resnet, optimizer, rt_optimizer, scheduler, data_loader, val_loader)"
   ]
  },
  {
   "cell_type": "code",
   "execution_count": 19,
   "metadata": {
    "scrolled": false
   },
   "outputs": [
    {
     "name": "stdout",
     "output_type": "stream",
     "text": [
      "Conv2d\n",
      "BatchNorm2d\n",
      "Conv2d\n",
      "BatchNorm2d\n",
      "Conv2d\n",
      "BatchNorm2d\n",
      "Sequential\n",
      "BasicBlock\n",
      "Conv2d\n",
      "BatchNorm2d\n",
      "Conv2d\n",
      "BatchNorm2d\n",
      "Sequential\n",
      "BasicBlock\n",
      "Conv2d\n",
      "BatchNorm2d\n",
      "Conv2d\n",
      "BatchNorm2d\n",
      "Sequential\n",
      "BasicBlock\n",
      "Conv2d\n",
      "BatchNorm2d\n",
      "Conv2d\n",
      "BatchNorm2d\n",
      "Sequential\n",
      "BasicBlock\n",
      "Conv2d\n",
      "BatchNorm2d\n",
      "Conv2d\n",
      "BatchNorm2d\n",
      "Sequential\n",
      "BasicBlock\n",
      "Conv2d\n",
      "BatchNorm2d\n",
      "Conv2d\n",
      "BatchNorm2d\n",
      "Sequential\n",
      "BasicBlock\n",
      "Conv2d\n",
      "BatchNorm2d\n",
      "Conv2d\n",
      "BatchNorm2d\n",
      "Sequential\n",
      "BasicBlock\n",
      "Conv2d\n",
      "BatchNorm2d\n",
      "Conv2d\n",
      "BatchNorm2d\n",
      "Sequential\n",
      "BasicBlock\n",
      "Conv2d\n",
      "BatchNorm2d\n",
      "Conv2d\n",
      "BatchNorm2d\n",
      "Sequential\n",
      "BasicBlock\n",
      "Sequential\n",
      "Conv2d\n",
      "BatchNorm2d\n",
      "Conv2d\n",
      "BatchNorm2d\n",
      "LambdaLayer\n",
      "BasicBlock\n",
      "Conv2d\n",
      "BatchNorm2d\n",
      "Conv2d\n",
      "BatchNorm2d\n",
      "Sequential\n",
      "BasicBlock\n",
      "Conv2d\n",
      "BatchNorm2d\n",
      "Conv2d\n",
      "BatchNorm2d\n",
      "Sequential\n",
      "BasicBlock\n",
      "Conv2d\n",
      "BatchNorm2d\n",
      "Conv2d\n",
      "BatchNorm2d\n",
      "Sequential\n",
      "BasicBlock\n",
      "Conv2d\n",
      "BatchNorm2d\n",
      "Conv2d\n",
      "BatchNorm2d\n",
      "Sequential\n",
      "BasicBlock\n",
      "Conv2d\n",
      "BatchNorm2d\n",
      "Conv2d\n",
      "BatchNorm2d\n",
      "Sequential\n",
      "BasicBlock\n",
      "Conv2d\n",
      "BatchNorm2d\n",
      "Conv2d\n",
      "BatchNorm2d\n",
      "Sequential\n",
      "BasicBlock\n",
      "Conv2d\n",
      "BatchNorm2d\n",
      "Conv2d\n",
      "BatchNorm2d\n",
      "Sequential\n",
      "BasicBlock\n",
      "Conv2d\n",
      "BatchNorm2d\n",
      "Conv2d\n",
      "BatchNorm2d\n",
      "Sequential\n",
      "BasicBlock\n",
      "Sequential\n",
      "Conv2d\n",
      "BatchNorm2d\n",
      "Conv2d\n",
      "BatchNorm2d\n",
      "LambdaLayer\n",
      "BasicBlock\n",
      "Conv2d\n",
      "BatchNorm2d\n",
      "Conv2d\n",
      "BatchNorm2d\n",
      "Sequential\n",
      "BasicBlock\n",
      "Conv2d\n",
      "BatchNorm2d\n",
      "Conv2d\n",
      "BatchNorm2d\n",
      "Sequential\n",
      "BasicBlock\n",
      "Conv2d\n",
      "BatchNorm2d\n",
      "Conv2d\n",
      "BatchNorm2d\n",
      "Sequential\n",
      "BasicBlock\n",
      "Conv2d\n",
      "BatchNorm2d\n",
      "Conv2d\n",
      "BatchNorm2d\n",
      "Sequential\n",
      "BasicBlock\n",
      "Conv2d\n",
      "BatchNorm2d\n",
      "Conv2d\n",
      "BatchNorm2d\n",
      "Sequential\n",
      "BasicBlock\n",
      "Conv2d\n",
      "BatchNorm2d\n",
      "Conv2d\n",
      "BatchNorm2d\n",
      "Sequential\n",
      "BasicBlock\n",
      "Conv2d\n",
      "BatchNorm2d\n",
      "Conv2d\n",
      "BatchNorm2d\n",
      "Sequential\n",
      "BasicBlock\n",
      "Conv2d\n",
      "BatchNorm2d\n",
      "Conv2d\n",
      "BatchNorm2d\n",
      "Sequential\n",
      "BasicBlock\n",
      "Sequential\n",
      "Linear\n",
      "ResNet\n",
      "Files already downloaded and verified\n",
      "Files already downloaded and verified\n",
      "time after 0 iterations: 0.14654755592346191 seconds\n",
      "time after 100 iterations: 20.141679763793945 seconds\n",
      "time after 200 iterations: 40.01632285118103 seconds\n",
      "time after 300 iterations: 59.908048152923584 seconds\n",
      "time after 400 iterations: 79.67066383361816 seconds\n",
      "time after 500 iterations: 99.54656910896301 seconds\n",
      "time after 600 iterations: 119.44300031661987 seconds\n",
      "time after 700 iterations: 139.37124228477478 seconds\n",
      "time after 800 iterations: 159.2528736591339 seconds\n",
      "time after 900 iterations: 179.14980578422546 seconds\n",
      "time after 1000 iterations: 199.00088834762573 seconds\n",
      "time after 1100 iterations: 218.86657071113586 seconds\n",
      "time after 1200 iterations: 238.7532868385315 seconds\n",
      "time after 1300 iterations: 258.6556193828583 seconds\n",
      "time after 1400 iterations: 278.6520199775696 seconds\n",
      "time after 1500 iterations: 298.55948519706726 seconds\n",
      "time after 1600 iterations: 318.4445209503174 seconds\n",
      "time after 1700 iterations: 338.3434498310089 seconds\n",
      "time after 1800 iterations: 358.21958327293396 seconds\n"
     ]
    },
    {
     "ename": "KeyboardInterrupt",
     "evalue": "",
     "output_type": "error",
     "traceback": [
      "\u001b[0;31m---------------------------------------------------------------------------\u001b[0m",
      "\u001b[0;31mKeyboardInterrupt\u001b[0m                         Traceback (most recent call last)",
      "\u001b[0;32m<ipython-input-19-a9bc71e310b6>\u001b[0m in \u001b[0;36m<module>\u001b[0;34m\u001b[0m\n\u001b[1;32m      7\u001b[0m \u001b[0;32mfor\u001b[0m \u001b[0mi\u001b[0m\u001b[0;34m,\u001b[0m \u001b[0;34m(\u001b[0m\u001b[0mbatch_size\u001b[0m\u001b[0;34m,\u001b[0m \u001b[0mepochs\u001b[0m\u001b[0;34m,\u001b[0m \u001b[0mmin_lr\u001b[0m\u001b[0;34m,\u001b[0m \u001b[0mmax_lr\u001b[0m\u001b[0;34m,\u001b[0m \u001b[0miterations\u001b[0m\u001b[0;34m)\u001b[0m \u001b[0;32min\u001b[0m \u001b[0menumerate\u001b[0m\u001b[0;34m(\u001b[0m\u001b[0mparams\u001b[0m\u001b[0;34m)\u001b[0m\u001b[0;34m:\u001b[0m\u001b[0;34m\u001b[0m\u001b[0;34m\u001b[0m\u001b[0m\n\u001b[1;32m      8\u001b[0m     \u001b[0;34m(\u001b[0m\u001b[0mmodel\u001b[0m\u001b[0;34m,\u001b[0m \u001b[0moptimizer\u001b[0m\u001b[0;34m,\u001b[0m \u001b[0mrt_optimizer\u001b[0m\u001b[0;34m,\u001b[0m \u001b[0mscheduler\u001b[0m\u001b[0;34m,\u001b[0m \u001b[0mdata_loader\u001b[0m\u001b[0;34m,\u001b[0m \u001b[0mval_loader\u001b[0m\u001b[0;34m)\u001b[0m \u001b[0;34m=\u001b[0m \u001b[0mgetNet\u001b[0m\u001b[0;34m(\u001b[0m\u001b[0mbatch_size\u001b[0m\u001b[0;34m,\u001b[0m \u001b[0mmin_lr\u001b[0m\u001b[0;34m,\u001b[0m \u001b[0mmax_lr\u001b[0m\u001b[0;34m,\u001b[0m \u001b[0miterations\u001b[0m\u001b[0;34m/\u001b[0m\u001b[0;36m2\u001b[0m\u001b[0;34m)\u001b[0m\u001b[0;34m\u001b[0m\u001b[0;34m\u001b[0m\u001b[0m\n\u001b[0;32m----> 9\u001b[0;31m     \u001b[0;34m(\u001b[0m\u001b[0macc\u001b[0m\u001b[0;34m,\u001b[0m \u001b[0mloss\u001b[0m\u001b[0;34m)\u001b[0m \u001b[0;34m=\u001b[0m \u001b[0mrange_test\u001b[0m\u001b[0;34m(\u001b[0m\u001b[0mmodel\u001b[0m\u001b[0;34m,\u001b[0m \u001b[0mrt_optimizer\u001b[0m\u001b[0;34m,\u001b[0m \u001b[0mdata_loader\u001b[0m\u001b[0;34m,\u001b[0m \u001b[0mloss_xent\u001b[0m\u001b[0;34m,\u001b[0m \u001b[0;36m0\u001b[0m\u001b[0;34m,\u001b[0m \u001b[0;36m1\u001b[0m\u001b[0;34m,\u001b[0m \u001b[0;36m10000\u001b[0m\u001b[0;34m/\u001b[0m\u001b[0;34m(\u001b[0m\u001b[0;36m1\u001b[0m\u001b[0;34m<<\u001b[0m\u001b[0mi\u001b[0m\u001b[0;34m)\u001b[0m\u001b[0;34m,\u001b[0m \u001b[0mbatch_size\u001b[0m\u001b[0;34m)\u001b[0m\u001b[0;34m\u001b[0m\u001b[0;34m\u001b[0m\u001b[0m\n\u001b[0m\u001b[1;32m     10\u001b[0m     \u001b[0mnp\u001b[0m\u001b[0;34m.\u001b[0m\u001b[0msave\u001b[0m\u001b[0;34m(\u001b[0m\u001b[0;34mf\"rt_acc{i}\"\u001b[0m\u001b[0;34m,\u001b[0m \u001b[0macc\u001b[0m\u001b[0;34m)\u001b[0m\u001b[0;34m\u001b[0m\u001b[0;34m\u001b[0m\u001b[0m\n\u001b[1;32m     11\u001b[0m     \u001b[0mnp\u001b[0m\u001b[0;34m.\u001b[0m\u001b[0msave\u001b[0m\u001b[0;34m(\u001b[0m\u001b[0;34mf\"rt_loss{i}\"\u001b[0m\u001b[0;34m,\u001b[0m \u001b[0mloss\u001b[0m\u001b[0;34m)\u001b[0m\u001b[0;34m\u001b[0m\u001b[0;34m\u001b[0m\u001b[0m\n",
      "\u001b[0;32m<ipython-input-15-0e9b2982bff0>\u001b[0m in \u001b[0;36mrange_test\u001b[0;34m(net, opt, dataloader, lossfn, min_lr, max_lr, iterations, batchsize)\u001b[0m\n\u001b[1;32m     57\u001b[0m         \u001b[0mdatait\u001b[0m \u001b[0;34m=\u001b[0m \u001b[0miter\u001b[0m\u001b[0;34m(\u001b[0m\u001b[0mdataloader\u001b[0m\u001b[0;34m)\u001b[0m\u001b[0;34m\u001b[0m\u001b[0;34m\u001b[0m\u001b[0m\n\u001b[1;32m     58\u001b[0m         \u001b[0;32mfor\u001b[0m \u001b[0mn\u001b[0m\u001b[0;34m,\u001b[0m \u001b[0;34m(\u001b[0m\u001b[0mimages\u001b[0m\u001b[0;34m,\u001b[0m \u001b[0mlabels\u001b[0m\u001b[0;34m)\u001b[0m \u001b[0;32min\u001b[0m \u001b[0menumerate\u001b[0m\u001b[0;34m(\u001b[0m\u001b[0mdatait\u001b[0m\u001b[0;34m)\u001b[0m\u001b[0;34m:\u001b[0m\u001b[0;34m\u001b[0m\u001b[0;34m\u001b[0m\u001b[0m\n\u001b[0;32m---> 59\u001b[0;31m             \u001b[0mimages\u001b[0m\u001b[0;34m,\u001b[0m \u001b[0mlabels\u001b[0m \u001b[0;34m=\u001b[0m \u001b[0mcuda\u001b[0m\u001b[0;34m(\u001b[0m\u001b[0mimages\u001b[0m\u001b[0;34m)\u001b[0m\u001b[0;34m,\u001b[0m \u001b[0mcuda\u001b[0m\u001b[0;34m(\u001b[0m\u001b[0mlabels\u001b[0m\u001b[0;34m)\u001b[0m\u001b[0;34m\u001b[0m\u001b[0;34m\u001b[0m\u001b[0m\n\u001b[0m\u001b[1;32m     60\u001b[0m             \u001b[0mprediction\u001b[0m \u001b[0;34m=\u001b[0m \u001b[0mnet\u001b[0m\u001b[0;34m.\u001b[0m\u001b[0mforward\u001b[0m\u001b[0;34m(\u001b[0m\u001b[0mimages\u001b[0m\u001b[0;34m)\u001b[0m\u001b[0;34m\u001b[0m\u001b[0;34m\u001b[0m\u001b[0m\n\u001b[1;32m     61\u001b[0m             \u001b[0moutput\u001b[0m     \u001b[0;34m=\u001b[0m \u001b[0mlossfn\u001b[0m\u001b[0;34m(\u001b[0m\u001b[0mprediction\u001b[0m\u001b[0;34m,\u001b[0m \u001b[0mlabels\u001b[0m\u001b[0;34m)\u001b[0m\u001b[0;34m\u001b[0m\u001b[0;34m\u001b[0m\u001b[0m\n",
      "\u001b[0;32m<ipython-input-15-0e9b2982bff0>\u001b[0m in \u001b[0;36mcuda\u001b[0;34m(thing)\u001b[0m\n\u001b[1;32m     39\u001b[0m \u001b[0;32mdef\u001b[0m \u001b[0mcuda\u001b[0m\u001b[0;34m(\u001b[0m\u001b[0mthing\u001b[0m\u001b[0;34m)\u001b[0m\u001b[0;34m:\u001b[0m\u001b[0;34m\u001b[0m\u001b[0;34m\u001b[0m\u001b[0m\n\u001b[1;32m     40\u001b[0m     \u001b[0;32mif\u001b[0m \u001b[0mcuda_available\u001b[0m\u001b[0;34m:\u001b[0m\u001b[0;34m\u001b[0m\u001b[0;34m\u001b[0m\u001b[0m\n\u001b[0;32m---> 41\u001b[0;31m         \u001b[0;32mreturn\u001b[0m \u001b[0mthing\u001b[0m\u001b[0;34m.\u001b[0m\u001b[0mcuda\u001b[0m\u001b[0;34m(\u001b[0m\u001b[0;34m)\u001b[0m\u001b[0;34m\u001b[0m\u001b[0;34m\u001b[0m\u001b[0m\n\u001b[0m\u001b[1;32m     42\u001b[0m     \u001b[0;32mreturn\u001b[0m \u001b[0mthing\u001b[0m\u001b[0;34m\u001b[0m\u001b[0;34m\u001b[0m\u001b[0m\n\u001b[1;32m     43\u001b[0m \u001b[0;34m\u001b[0m\u001b[0m\n",
      "\u001b[0;31mKeyboardInterrupt\u001b[0m: "
     ]
    }
   ],
   "source": [
    "params = [(1024, 116, 0.1, 1, 49*116),\n",
    "         (512, 95, 0.08, 0.8, 98*95),\n",
    "         (256, 70, 0.06, 0.6, 196*70),\n",
    "         (128, 48, 0.04, 0.4, 391*48)]\n",
    "params.reverse()\n",
    "\n",
    "for i, (batch_size, epochs, min_lr, max_lr, iterations) in enumerate(params):\n",
    "    (model, optimizer, rt_optimizer, scheduler, data_loader, val_loader) = getNet(batch_size, min_lr, max_lr, iterations/2)\n",
    "    (acc, loss) = range_test(model, rt_optimizer, data_loader, loss_xent, 0, 1, 10000/(1<<i), batch_size)\n",
    "    np.save(f\"rt_acc{i}\", acc)\n",
    "    np.save(f\"rt_loss{i}\", loss)\n",
    "    torch.save(model.state_dict(), f\"rt_model{i}\")\n",
    "    \n",
    "\n",
    "for i, (batch_size, epochs, min_lr, max_lr, iterations) in enumerate(params):\n",
    "    (model, optimizer, rt_optimizer, scheduler, data_loader, val_loader) = getNet(batch_size, min_lr, max_lr, iterations/2)\n",
    "    (acc, loss, valacc) = trainFunc(model, nn.CrossEntropyLoss(), optimizer, data_loader, val_loader, epochs*0+1, validation_interval=50)\n",
    "    np.save(f\"tr_acc{i}\", acc)\n",
    "    np.save(f\"tr_loss{i}\", loss)\n",
    "    np.save(f\"tr_valacc{i}\", valacc)\n",
    "    torch.save(model.state_dict(), f\"tr_model{i}\")\n",
    "    "
   ]
  },
  {
   "cell_type": "code",
   "execution_count": 13,
   "metadata": {},
   "outputs": [
    {
     "name": "stdout",
     "output_type": "stream",
     "text": [
      "starting training\n",
      "time passed after training 0 epochs is 72.99567341804504 seconds\n",
      "time passed after training 1 epochs is 145.88864588737488 seconds\n",
      "time passed after training 2 epochs is 218.73821830749512 seconds\n",
      "time passed after training 3 epochs is 291.6378061771393 seconds\n",
      "time passed after training 4 epochs is 364.54217982292175 seconds\n",
      "time passed after training 5 epochs is 437.41723442077637 seconds\n",
      "time passed after training 6 epochs is 510.2117099761963 seconds\n",
      "time passed after training 7 epochs is 583.07528424263 seconds\n",
      "time passed after training 8 epochs is 655.9146082401276 seconds\n",
      "time passed after training 9 epochs is 728.7469797134399 seconds\n",
      "time passed after training 10 epochs is 801.4734983444214 seconds\n",
      "time passed after training 11 epochs is 874.3388056755066 seconds\n",
      "time passed after training 12 epochs is 947.174468755722 seconds\n",
      "time passed after training 13 epochs is 1019.9657804965973 seconds\n",
      "time passed after training 14 epochs is 1092.7547574043274 seconds\n",
      "time passed after training 15 epochs is 1165.5081338882446 seconds\n",
      "time passed after training 16 epochs is 1238.3246405124664 seconds\n",
      "time passed after training 17 epochs is 1311.1405696868896 seconds\n",
      "time passed after training 18 epochs is 1383.9726305007935 seconds\n",
      "time passed after training 19 epochs is 1456.7655229568481 seconds\n",
      "time passed after training 20 epochs is 1529.572581768036 seconds\n",
      "time passed after training 21 epochs is 1602.4492990970612 seconds\n",
      "time passed after training 22 epochs is 1675.2258639335632 seconds\n",
      "time passed after training 23 epochs is 1748.0430526733398 seconds\n",
      "time passed after training 24 epochs is 1820.862915277481 seconds\n",
      "time passed after training 25 epochs is 1893.7325892448425 seconds\n",
      "time passed after training 26 epochs is 1966.6239721775055 seconds\n",
      "time passed after training 27 epochs is 2039.399787902832 seconds\n",
      "time passed after training 28 epochs is 2112.2668886184692 seconds\n",
      "time passed after training 29 epochs is 2185.1777415275574 seconds\n",
      "time passed after training 30 epochs is 2258.042624473572 seconds\n",
      "time passed after training 31 epochs is 2330.857275724411 seconds\n",
      "time passed after training 32 epochs is 2403.6790084838867 seconds\n",
      "time passed after training 33 epochs is 2476.5849299430847 seconds\n",
      "time passed after training 34 epochs is 2549.509553670883 seconds\n",
      "time passed after training 35 epochs is 2622.3391194343567 seconds\n",
      "time passed after training 36 epochs is 2695.1489577293396 seconds\n",
      "time passed after training 37 epochs is 2767.9908747673035 seconds\n",
      "time passed after training 38 epochs is 2840.8699469566345 seconds\n",
      "time passed after training 39 epochs is 2913.722289800644 seconds\n"
     ]
    }
   ],
   "source": [
    "(accuracy, loss, validationacc) = trainFunc(resnet, nn.CrossEntropyLoss(), optimizer, n_epochs=40, validation_interval=0)"
   ]
  },
  {
   "cell_type": "code",
   "execution_count": 14,
   "metadata": {},
   "outputs": [],
   "source": [
    "res.append((accuracy, loss, validationacc))"
   ]
  },
  {
   "cell_type": "code",
   "execution_count": 15,
   "metadata": {
    "scrolled": true
   },
   "outputs": [
    {
     "data": {
      "text/plain": [
       "[<matplotlib.lines.Line2D at 0x7f6e2248ee10>]"
      ]
     },
     "execution_count": 15,
     "metadata": {},
     "output_type": "execute_result"
    },
    {
     "data": {
      "image/png": "[encoded data removed]",
      "text/plain": [
       "<Figure size 432x288 with 1 Axes>"
      ]
     },
     "metadata": {
      "needs_background": "light"
     },
     "output_type": "display_data"
    }
   ],
   "source": [
    "x = np.arange(0,len(accuracy))\n",
    "plt.plot(x,np.array(accuracy),np.array(loss))\n",
    "x = np.arange(0,len(validationacc))\n",
    "plt.plot(x, np.array(validationacc))"
   ]
  },
  {
   "cell_type": "code",
   "execution_count": 16,
   "metadata": {},
   "outputs": [
    {
     "name": "stdout",
     "output_type": "stream",
     "text": [
      "6.0831\n",
      "acc 0.8143727\n"
     ]
    }
   ],
   "source": [
    "t = time.time()\n",
    "valacc = validateFunc(resnet, 100)\n",
    "print(f\"{time.time()-t:2.4f}\\nacc {np.mean(valacc):.7f}\")"
   ]
  },
  {
   "cell_type": "markdown",
   "metadata": {},
   "source": [
    "#### DenseNet"
   ]
  },
  {
   "cell_type": "code",
   "execution_count": 10,
   "metadata": {},
   "outputs": [],
   "source": [
    "def imshow(img):\n",
    "    img = img / 2 + 0.5     # unnormalize\n",
    "    npimg = img.numpy()\n",
    "    plt.imshow(np.transpose(npimg, (1, 2, 0)))"
   ]
  },
  {
   "cell_type": "code",
   "execution_count": 11,
   "metadata": {},
   "outputs": [
    {
     "ename": "NameError",
     "evalue": "name 'images' is not defined",
     "output_type": "error",
     "traceback": [
      "\u001b[0;31m---------------------------------------------------------------------------\u001b[0m",
      "\u001b[0;31mNameError\u001b[0m                                 Traceback (most recent call last)",
      "\u001b[0;32m<ipython-input-11-0bc8adb8d25b>\u001b[0m in \u001b[0;36m<module>\u001b[0;34m\u001b[0m\n\u001b[1;32m      1\u001b[0m \u001b[0;32mif\u001b[0m \u001b[0mcuda_available\u001b[0m\u001b[0;34m:\u001b[0m\u001b[0;34m\u001b[0m\u001b[0;34m\u001b[0m\u001b[0m\n\u001b[0;32m----> 2\u001b[0;31m     \u001b[0mimages\u001b[0m \u001b[0;34m=\u001b[0m \u001b[0mimages\u001b[0m\u001b[0;34m.\u001b[0m\u001b[0mcpu\u001b[0m\u001b[0;34m(\u001b[0m\u001b[0;34m)\u001b[0m\u001b[0;34m\u001b[0m\u001b[0;34m\u001b[0m\u001b[0m\n\u001b[0m\u001b[1;32m      3\u001b[0m \u001b[0mimshow\u001b[0m\u001b[0;34m(\u001b[0m\u001b[0mtorchvision\u001b[0m\u001b[0;34m.\u001b[0m\u001b[0mutils\u001b[0m\u001b[0;34m.\u001b[0m\u001b[0mmake_grid\u001b[0m\u001b[0;34m(\u001b[0m\u001b[0mimages\u001b[0m\u001b[0;34m)\u001b[0m\u001b[0;34m)\u001b[0m\u001b[0;34m\u001b[0m\u001b[0;34m\u001b[0m\u001b[0m\n",
      "\u001b[0;31mNameError\u001b[0m: name 'images' is not defined"
     ]
    }
   ],
   "source": [
    "if cuda_available:\n",
    "    images = images.cpu()\n",
    "imshow(torchvision.utils.make_grid(images))"
   ]
  },
  {
   "cell_type": "code",
   "execution_count": null,
   "metadata": {},
   "outputs": [],
   "source": [
    "densenet = models.densenet161()"
   ]
  }
 ],
 "metadata": {
  "kernelspec": {
   "display_name": "Python 3",
   "language": "python",
   "name": "python3"
  },
  "language_info": {
   "codemirror_mode": {
    "name": "ipython",
    "version": 3
   },
   "file_extension": ".py",
   "mimetype": "text/x-python",
   "name": "python",
   "nbconvert_exporter": "python",
   "pygments_lexer": "ipython3",
   "version": "3.7.3"
  }
 },
 "nbformat": 4,
 "nbformat_minor": 2
}
