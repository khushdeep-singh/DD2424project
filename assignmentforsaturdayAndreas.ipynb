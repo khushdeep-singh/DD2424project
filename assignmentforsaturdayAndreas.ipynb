{
 "cells": [
  {
   "cell_type": "markdown",
   "metadata": {},
   "source": [
    "# Inital setup"
   ]
  },
  {
   "cell_type": "code",
   "execution_count": 1,
   "metadata": {
    "scrolled": true
   },
   "outputs": [
    {
     "name": "stdout",
     "output_type": "stream",
     "text": [
      "using device cuda:0\n"
     ]
    }
   ],
   "source": [
    "import time\n",
    "\n",
    "import torch \n",
    "import torchvision\n",
    "import torchvision.models as models\n",
    "import torchvision.transforms as transforms\n",
    "import torch.nn as nn\n",
    "import torch.nn.init as init\n",
    "import torch.nn.functional as F\n",
    "import torch.optim as optim\n",
    "\n",
    "import resnet as rnet\n",
    "\n",
    "import matplotlib.pyplot as plt\n",
    "import numpy as np\n",
    "\n",
    "cuda_available = torch.cuda.is_available()\n",
    "device = torch.device(\"cuda:0\" if cuda_available else \"cpu\")\n",
    "print(f\"using device {device}\")\n",
    "\n",
    "path = \"./\""
   ]
  },
  {
   "cell_type": "markdown",
   "metadata": {},
   "source": [
    "### Help functions"
   ]
  },
  {
   "cell_type": "code",
   "execution_count": 2,
   "metadata": {},
   "outputs": [],
   "source": [
    "def validateFunc(model, batches):\n",
    "    valacc = []\n",
    "    \n",
    "    model.eval()\n",
    "\n",
    "    for i, (images, targets) in enumerate(val_loader):\n",
    "        if i >= batches:\n",
    "            break\n",
    "        if cuda_available: \n",
    "            images = images.cuda()\n",
    "            targets = targets.cuda()\n",
    "\n",
    "        t = time.time()\n",
    "        prediction = model.forward(images)\n",
    "\n",
    "        valacc = valacc + [get_xent_acc(prediction, targets)]\n",
    "        \n",
    "    model.train()\n",
    "    \n",
    "    return valacc"
   ]
  },
  {
   "cell_type": "code",
   "execution_count": 3,
   "metadata": {},
   "outputs": [],
   "source": [
    "def make_oneh(labels):\n",
    "    oneh_labels = np.zeros([labels.shape[0], 10])\n",
    "    indexes = np.array([np.arange(0,labels.shape[0]), labels.numpy()])\n",
    "    oneh_labels[tuple(indexes)] = 1.0\n",
    "    return torch.tensor(oneh_labels).long()\n",
    "def get_xent_acc(prediction, labels):\n",
    "    prediction = prediction.cpu().data.numpy()\n",
    "    labels = labels.cpu().data.numpy()\n",
    "    predicted_labels = np.argmax(prediction,1)\n",
    "    return sum((predicted_labels - labels) == 0)/predicted_labels.shape[0]\n",
    "def xent_softmax(prediction):\n",
    "    pred = np.exp(prediction.cpu().data.numpy())\n",
    "    divide = np.repeat(pred.sum(1).reshape(pred.shape[0],1), pred.shape[1],1)\n",
    "    pred = np.divide(pred,divide)\n",
    "    return pred "
   ]
  },
  {
   "cell_type": "code",
   "execution_count": 28,
   "metadata": {
    "scrolled": false
   },
   "outputs": [],
   "source": [
    "def trainFunc(model, lossfn, optimizer, n_epochs=1, validation_interval=10):\n",
    "    start    = time.time()\n",
    "    accuracy = [] \n",
    "    loss     = []\n",
    "    valacc   = []\n",
    "\n",
    "    model.train()\n",
    "    \n",
    "    print(\"starting training\")\n",
    "    \n",
    "    updateStep = 0\n",
    "    for epoch in range(n_epochs):\n",
    "        data_iterator = iter(data_loader)\n",
    "        for i, (images, labels) in enumerate(data_iterator):\n",
    "            t = time.time()\n",
    "\n",
    "            f\"\"\"if we use GPU, input- and target-tensors must be loaded on GPU as well.\"\"\"\n",
    "            if cuda_available: \n",
    "                images = images.cuda()\n",
    "                labels = labels.cuda()\n",
    "\n",
    "            prediction = model.forward(images)\n",
    "            output     = lossfn(prediction, labels)\n",
    "\n",
    "            accuracy = accuracy + [get_xent_acc(prediction, labels)]\n",
    "            loss     = loss + [output]\n",
    "\n",
    "            optimizer.zero_grad()\n",
    "            output.backward() # calculates gradients \n",
    "            optimizer.step()  # updates weights\n",
    "\n",
    "            if validation_interval > 0 and updateStep % validation_interval == 0:\n",
    "                valacc = valacc + validateFunc(model, 1)\n",
    "            updateStep += 1\n",
    "\n",
    "        print(f\"\"\"time passed after training {epoch} epochs is {time.time()-start} seconds\"\"\")\n",
    "    return (accuracy, loss, valacc)\n",
    "\n",
    "def cuda(thing):\n",
    "    if cuda_available:\n",
    "        return thing.cuda()\n",
    "    return thing\n",
    "\n",
    "def range_test(net,opt,dataloader,lossfn,min_lr,max_lr,iterations,batchsize, momentum=0.9):\n",
    "    scheduler = torch.optim.lr_scheduler.CyclicLR(opt, min_lr, max_lr, \n",
    "                                                  step_size_up=iterations, step_size_down=0, \n",
    "                                                  mode='triangular', cycle_momentum=False, base_momentum=momentum)\n",
    "    start    = time.time()\n",
    "    time_int = 100\n",
    "    \n",
    "    accuracy  = []\n",
    "    loss      = []\n",
    "    interval  = 5\n",
    "    i         = 0\n",
    "    while i < iterations:\n",
    "        datait = iter(dataloader)\n",
    "        for n, (images, labels) in enumerate(datait):\n",
    "            images, labels = cuda(images), cuda(labels)\n",
    "            prediction = net.forward(images)\n",
    "            output     = lossfn(prediction, labels)\n",
    "            # Use accuracy on training-set\n",
    "            if i % interval == 0:\n",
    "                accuracy   = accuracy + [get_xent_acc(prediction, labels)]\n",
    "                loss       = loss + [output]\n",
    "            opt.zero_grad()   # clear gradients from previous time-step \n",
    "            output.backward() # calculates gradients \n",
    "            opt.step()        # updates weights\n",
    "            scheduler.step()  # change learning-rate in range_optimizer\n",
    "            if i % time_int == 0:\n",
    "                print(f\"time after {i} iterations: {time.time() - start} seconds\")\n",
    "                \n",
    "            i += 1\n",
    "            if i >= iterations:\n",
    "                break\n",
    "            \n",
    "    f\"\"\"make and save plot of accuracy\"\"\"\n",
    "    x1, x2 = [np.linspace(min_lr, max_lr, num) for num in [len(accuracy), len(loss)]]\n",
    "    plt.plot(x1, np.array(accuracy))\n",
    "    momentum = opt.param_groups[-1]['momentum']\n",
    "    weightdecay = opt.param_groups[-1]['weight_decay']\n",
    "    save_file = path+f\"/rangetest/acc_bs{batchsize}_minlr{min_lr}_maxlr{max_lr}_iterations{iterations}_momentum{momentum}_weightdecy{weightdecay}.png\"\n",
    "    plt.savefig(save_file)\n",
    "    plt.show()\n",
    "    return accuracy, loss"
   ]
  },
  {
   "cell_type": "markdown",
   "metadata": {},
   "source": [
    "### create loss function \n",
    "#### https://medium.com/udacity-pytorch-challengers/a-brief-overview-of-loss-functions-in-pytorch-c0ddb78068f7"
   ]
  },
  {
   "cell_type": "code",
   "execution_count": 29,
   "metadata": {},
   "outputs": [],
   "source": [
    "loss_xent = nn.CrossEntropyLoss()\n",
    "loss_mse  = nn.MSELoss()"
   ]
  },
  {
   "cell_type": "markdown",
   "metadata": {},
   "source": [
    "### play with forward and backwards pass"
   ]
  },
  {
   "cell_type": "code",
   "execution_count": 30,
   "metadata": {},
   "outputs": [],
   "source": [
    "%%capture\n",
    "# Configure\n",
    "resnet = rnet.resnet56()\n",
    "batch_size = 128\n",
    "optimizer = optim.SGD(resnet.parameters(),\n",
    "                      lr=0.1,\n",
    "                      momentum=0.9,\n",
    "                      weight_decay=1e-4)\n",
    "\n",
    "normalize = transforms.Normalize(mean=[0.485, 0.456, 0.406],\n",
    "                                     std=[0.229, 0.224, 0.225])\n",
    "\n",
    "data_loader = torch.utils.data.DataLoader(\n",
    "        torchvision.datasets.CIFAR10(path, train=True, transform=transforms.Compose([\n",
    "            #transforms.RandomHorizontalFlip(),\n",
    "            #transforms.RandomCrop(32, 4),\n",
    "            transforms.ToTensor(),\n",
    "            normalize,\n",
    "        ]), download=True),\n",
    "        batch_size=batch_size, shuffle=True,\n",
    "        num_workers=0, pin_memory=True)\n",
    "\n",
    "val_loader = torch.utils.data.DataLoader(\n",
    "    torchvision.datasets.CIFAR10(path, train=False, transform=transforms.Compose([\n",
    "        transforms.ToTensor(),\n",
    "        normalize,\n",
    "    ]), download=True),\n",
    "    batch_size=batch_size, shuffle=False,\n",
    "    num_workers=0, pin_memory=True)\n",
    "if cuda_available: resnet.cuda()"
   ]
  },
  {
   "cell_type": "code",
   "execution_count": 31,
   "metadata": {},
   "outputs": [
    {
     "name": "stdout",
     "output_type": "stream",
     "text": [
      "time after 0 iterations: 0.15218329429626465 seconds\n",
      "time after 100 iterations: 20.243626356124878 seconds\n",
      "time after 200 iterations: 40.26605820655823 seconds\n",
      "time after 300 iterations: 60.3177387714386 seconds\n",
      "time after 400 iterations: 80.31668543815613 seconds\n",
      "time after 500 iterations: 100.34675478935242 seconds\n",
      "time after 600 iterations: 120.24780917167664 seconds\n",
      "time after 700 iterations: 140.2907361984253 seconds\n",
      "time after 800 iterations: 160.2997748851776 seconds\n",
      "time after 900 iterations: 180.38518047332764 seconds\n",
      "time after 1000 iterations: 200.46491956710815 seconds\n",
      "time after 1100 iterations: 220.53190159797668 seconds\n",
      "time after 1200 iterations: 240.56740641593933 seconds\n",
      "time after 1300 iterations: 260.6434588432312 seconds\n",
      "time after 1400 iterations: 280.6592290401459 seconds\n",
      "time after 1500 iterations: 300.73379492759705 seconds\n",
      "time after 1600 iterations: 320.6745934486389 seconds\n",
      "time after 1700 iterations: 340.70328664779663 seconds\n",
      "time after 1800 iterations: 360.76743030548096 seconds\n",
      "time after 1900 iterations: 380.83176946640015 seconds\n",
      "time after 2000 iterations: 400.81775736808777 seconds\n",
      "time after 2100 iterations: 420.7378468513489 seconds\n",
      "time after 2200 iterations: 440.7816677093506 seconds\n",
      "time after 2300 iterations: 460.83674001693726 seconds\n",
      "time after 2400 iterations: 480.83485078811646 seconds\n",
      "time after 2500 iterations: 500.86223340034485 seconds\n",
      "time after 2600 iterations: 520.9220590591431 seconds\n",
      "time after 2700 iterations: 540.9744679927826 seconds\n",
      "time after 2800 iterations: 560.992157459259 seconds\n",
      "time after 2900 iterations: 581.0483088493347 seconds\n",
      "time after 3000 iterations: 601.1045801639557 seconds\n",
      "time after 3100 iterations: 621.1831645965576 seconds\n",
      "time after 3200 iterations: 641.1126976013184 seconds\n",
      "time after 3300 iterations: 661.154153585434 seconds\n",
      "time after 3400 iterations: 681.2329452037811 seconds\n",
      "time after 3500 iterations: 701.2873294353485 seconds\n",
      "time after 3600 iterations: 721.2806551456451 seconds\n",
      "time after 3700 iterations: 741.1774134635925 seconds\n",
      "time after 3800 iterations: 761.242342710495 seconds\n",
      "time after 3900 iterations: 781.2958738803864 seconds\n",
      "time after 4000 iterations: 801.3130028247833 seconds\n",
      "time after 4100 iterations: 821.376291513443 seconds\n",
      "time after 4200 iterations: 841.4259314537048 seconds\n",
      "time after 4300 iterations: 861.4808628559113 seconds\n",
      "time after 4400 iterations: 881.5096614360809 seconds\n",
      "time after 4500 iterations: 901.5624129772186 seconds\n",
      "time after 4600 iterations: 921.609836101532 seconds\n",
      "time after 4700 iterations: 941.531313419342 seconds\n",
      "time after 4800 iterations: 961.602347612381 seconds\n",
      "time after 4900 iterations: 981.6733858585358 seconds\n",
      "time after 5000 iterations: 1001.7434091567993 seconds\n",
      "time after 5100 iterations: 1021.7627990245819 seconds\n",
      "time after 5200 iterations: 1041.6981525421143 seconds\n",
      "time after 5300 iterations: 1061.72158741951 seconds\n",
      "time after 5400 iterations: 1081.7851285934448 seconds\n",
      "time after 5500 iterations: 1101.7872700691223 seconds\n",
      "time after 5600 iterations: 1121.8223049640656 seconds\n",
      "time after 5700 iterations: 1141.856735944748 seconds\n",
      "time after 5800 iterations: 1161.8897380828857 seconds\n",
      "time after 5900 iterations: 1181.877390384674 seconds\n",
      "time after 6000 iterations: 1201.9110238552094 seconds\n",
      "time after 6100 iterations: 1221.9787909984589 seconds\n",
      "time after 6200 iterations: 1241.9293375015259 seconds\n",
      "time after 6300 iterations: 1261.937084197998 seconds\n",
      "time after 6400 iterations: 1281.982117652893 seconds\n",
      "time after 6500 iterations: 1302.019501209259 seconds\n",
      "time after 6600 iterations: 1322.0580186843872 seconds\n",
      "time after 6700 iterations: 1342.0278396606445 seconds\n",
      "time after 6800 iterations: 1361.9132089614868 seconds\n",
      "time after 6900 iterations: 1381.9552340507507 seconds\n",
      "time after 7000 iterations: 1401.9884672164917 seconds\n",
      "time after 7100 iterations: 1421.9854266643524 seconds\n",
      "time after 7200 iterations: 1442.0538918972015 seconds\n",
      "time after 7300 iterations: 1462.1108093261719 seconds\n",
      "time after 7400 iterations: 1482.1464412212372 seconds\n",
      "time after 7500 iterations: 1502.117181777954 seconds\n",
      "time after 7600 iterations: 1522.1720914840698 seconds\n",
      "time after 7700 iterations: 1542.1795127391815 seconds\n",
      "time after 7800 iterations: 1562.1375305652618 seconds\n",
      "time after 7900 iterations: 1582.0863299369812 seconds\n",
      "time after 8000 iterations: 1602.110350370407 seconds\n",
      "time after 8100 iterations: 1622.167414188385 seconds\n",
      "time after 8200 iterations: 1642.2444474697113 seconds\n",
      "time after 8300 iterations: 1662.120986700058 seconds\n",
      "time after 8400 iterations: 1682.1164906024933 seconds\n",
      "time after 8500 iterations: 1702.143628358841 seconds\n",
      "time after 8600 iterations: 1722.1578664779663 seconds\n",
      "time after 8700 iterations: 1742.1518387794495 seconds\n",
      "time after 8800 iterations: 1762.2177710533142 seconds\n",
      "time after 8900 iterations: 1782.2524907588959 seconds\n",
      "time after 9000 iterations: 1802.2305023670197 seconds\n",
      "time after 9100 iterations: 1822.2600002288818 seconds\n",
      "time after 9200 iterations: 1842.2044360637665 seconds\n",
      "time after 9300 iterations: 1862.164785861969 seconds\n",
      "time after 9400 iterations: 1882.1130981445312 seconds\n",
      "time after 9500 iterations: 1902.0929849147797 seconds\n",
      "time after 9600 iterations: 1922.0974152088165 seconds\n",
      "time after 9700 iterations: 1942.1185035705566 seconds\n",
      "time after 9800 iterations: 1962.0933876037598 seconds\n",
      "time after 9900 iterations: 1981.9758195877075 seconds\n"
     ]
    },
    {
     "data": {
      "image/png": "[encoded data removed]",
      "text/plain": [
       "<Figure size 432x288 with 1 Axes>"
      ]
     },
     "metadata": {
      "needs_background": "light"
     },
     "output_type": "display_data"
    }
   ],
   "source": [
    "(accc, loss) = range_test(resnet, optimizer, data_loader, loss_xent, 0, 1, 10000, batch_size)"
   ]
  },
  {
   "cell_type": "code",
   "execution_count": 13,
   "metadata": {},
   "outputs": [
    {
     "name": "stdout",
     "output_type": "stream",
     "text": [
      "starting training\n",
      "time passed after training 0 epochs is 72.99567341804504 seconds\n",
      "time passed after training 1 epochs is 145.88864588737488 seconds\n",
      "time passed after training 2 epochs is 218.73821830749512 seconds\n",
      "time passed after training 3 epochs is 291.6378061771393 seconds\n",
      "time passed after training 4 epochs is 364.54217982292175 seconds\n",
      "time passed after training 5 epochs is 437.41723442077637 seconds\n",
      "time passed after training 6 epochs is 510.2117099761963 seconds\n",
      "time passed after training 7 epochs is 583.07528424263 seconds\n",
      "time passed after training 8 epochs is 655.9146082401276 seconds\n",
      "time passed after training 9 epochs is 728.7469797134399 seconds\n",
      "time passed after training 10 epochs is 801.4734983444214 seconds\n",
      "time passed after training 11 epochs is 874.3388056755066 seconds\n",
      "time passed after training 12 epochs is 947.174468755722 seconds\n",
      "time passed after training 13 epochs is 1019.9657804965973 seconds\n",
      "time passed after training 14 epochs is 1092.7547574043274 seconds\n",
      "time passed after training 15 epochs is 1165.5081338882446 seconds\n",
      "time passed after training 16 epochs is 1238.3246405124664 seconds\n",
      "time passed after training 17 epochs is 1311.1405696868896 seconds\n",
      "time passed after training 18 epochs is 1383.9726305007935 seconds\n",
      "time passed after training 19 epochs is 1456.7655229568481 seconds\n",
      "time passed after training 20 epochs is 1529.572581768036 seconds\n",
      "time passed after training 21 epochs is 1602.4492990970612 seconds\n",
      "time passed after training 22 epochs is 1675.2258639335632 seconds\n",
      "time passed after training 23 epochs is 1748.0430526733398 seconds\n",
      "time passed after training 24 epochs is 1820.862915277481 seconds\n",
      "time passed after training 25 epochs is 1893.7325892448425 seconds\n",
      "time passed after training 26 epochs is 1966.6239721775055 seconds\n",
      "time passed after training 27 epochs is 2039.399787902832 seconds\n",
      "time passed after training 28 epochs is 2112.2668886184692 seconds\n",
      "time passed after training 29 epochs is 2185.1777415275574 seconds\n",
      "time passed after training 30 epochs is 2258.042624473572 seconds\n",
      "time passed after training 31 epochs is 2330.857275724411 seconds\n",
      "time passed after training 32 epochs is 2403.6790084838867 seconds\n",
      "time passed after training 33 epochs is 2476.5849299430847 seconds\n",
      "time passed after training 34 epochs is 2549.509553670883 seconds\n",
      "time passed after training 35 epochs is 2622.3391194343567 seconds\n",
      "time passed after training 36 epochs is 2695.1489577293396 seconds\n",
      "time passed after training 37 epochs is 2767.9908747673035 seconds\n",
      "time passed after training 38 epochs is 2840.8699469566345 seconds\n",
      "time passed after training 39 epochs is 2913.722289800644 seconds\n"
     ]
    }
   ],
   "source": [
    "(accuracy, loss, validationacc) = trainFunc(resnet, nn.CrossEntropyLoss(), optimizer, n_epochs=40, validation_interval=0)"
   ]
  },
  {
   "cell_type": "code",
   "execution_count": 14,
   "metadata": {},
   "outputs": [],
   "source": [
    "res.append((accuracy, loss, validationacc))"
   ]
  },
  {
   "cell_type": "code",
   "execution_count": 15,
   "metadata": {
    "scrolled": true
   },
   "outputs": [
    {
     "data": {
      "text/plain": [
       "[<matplotlib.lines.Line2D at 0x7f6e2248ee10>]"
      ]
     },
     "execution_count": 15,
     "metadata": {},
     "output_type": "execute_result"
    },
    {
     "data": {
      "image/png": "[encoded data removed]",
      "text/plain": [
       "<Figure size 432x288 with 1 Axes>"
      ]
     },
     "metadata": {
      "needs_background": "light"
     },
     "output_type": "display_data"
    }
   ],
   "source": [
    "x = np.arange(0,len(accuracy))\n",
    "plt.plot(x,np.array(accuracy),np.array(loss))\n",
    "x = np.arange(0,len(validationacc))\n",
    "plt.plot(x, np.array(validationacc))"
   ]
  },
  {
   "cell_type": "code",
   "execution_count": 16,
   "metadata": {},
   "outputs": [
    {
     "name": "stdout",
     "output_type": "stream",
     "text": [
      "6.0831\n",
      "acc 0.8143727\n"
     ]
    }
   ],
   "source": [
    "t = time.time()\n",
    "valacc = validateFunc(resnet, 100)\n",
    "print(f\"{time.time()-t:2.4f}\\nacc {np.mean(valacc):.7f}\")"
   ]
  },
  {
   "cell_type": "markdown",
   "metadata": {},
   "source": [
    "#### DenseNet"
   ]
  },
  {
   "cell_type": "code",
   "execution_count": 10,
   "metadata": {},
   "outputs": [],
   "source": [
    "def imshow(img):\n",
    "    img = img / 2 + 0.5     # unnormalize\n",
    "    npimg = img.numpy()\n",
    "    plt.imshow(np.transpose(npimg, (1, 2, 0)))"
   ]
  },
  {
   "cell_type": "code",
   "execution_count": 11,
   "metadata": {},
   "outputs": [
    {
     "ename": "NameError",
     "evalue": "name 'images' is not defined",
     "output_type": "error",
     "traceback": [
      "\u001b[0;31m---------------------------------------------------------------------------\u001b[0m",
      "\u001b[0;31mNameError\u001b[0m                                 Traceback (most recent call last)",
      "\u001b[0;32m<ipython-input-11-0bc8adb8d25b>\u001b[0m in \u001b[0;36m<module>\u001b[0;34m\u001b[0m\n\u001b[1;32m      1\u001b[0m \u001b[0;32mif\u001b[0m \u001b[0mcuda_available\u001b[0m\u001b[0;34m:\u001b[0m\u001b[0;34m\u001b[0m\u001b[0;34m\u001b[0m\u001b[0m\n\u001b[0;32m----> 2\u001b[0;31m     \u001b[0mimages\u001b[0m \u001b[0;34m=\u001b[0m \u001b[0mimages\u001b[0m\u001b[0;34m.\u001b[0m\u001b[0mcpu\u001b[0m\u001b[0;34m(\u001b[0m\u001b[0;34m)\u001b[0m\u001b[0;34m\u001b[0m\u001b[0;34m\u001b[0m\u001b[0m\n\u001b[0m\u001b[1;32m      3\u001b[0m \u001b[0mimshow\u001b[0m\u001b[0;34m(\u001b[0m\u001b[0mtorchvision\u001b[0m\u001b[0;34m.\u001b[0m\u001b[0mutils\u001b[0m\u001b[0;34m.\u001b[0m\u001b[0mmake_grid\u001b[0m\u001b[0;34m(\u001b[0m\u001b[0mimages\u001b[0m\u001b[0;34m)\u001b[0m\u001b[0;34m)\u001b[0m\u001b[0;34m\u001b[0m\u001b[0;34m\u001b[0m\u001b[0m\n",
      "\u001b[0;31mNameError\u001b[0m: name 'images' is not defined"
     ]
    }
   ],
   "source": [
    "if cuda_available:\n",
    "    images = images.cpu()\n",
    "imshow(torchvision.utils.make_grid(images))"
   ]
  },
  {
   "cell_type": "code",
   "execution_count": null,
   "metadata": {},
   "outputs": [],
   "source": [
    "densenet = models.densenet161()"
   ]
  }
 ],
 "metadata": {
  "kernelspec": {
   "display_name": "Python 3",
   "language": "python",
   "name": "python3"
  },
  "language_info": {
   "codemirror_mode": {
    "name": "ipython",
    "version": 3
   },
   "file_extension": ".py",
   "mimetype": "text/x-python",
   "name": "python",
   "nbconvert_exporter": "python",
   "pygments_lexer": "ipython3",
   "version": "3.7.3"
  }
 },
 "nbformat": 4,
 "nbformat_minor": 2
}
