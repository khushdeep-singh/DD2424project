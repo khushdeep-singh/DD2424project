{
 "cells": [
  {
   "cell_type": "code",
   "execution_count": 1,
   "metadata": {},
   "outputs": [
    {
     "name": "stdout",
     "output_type": "stream",
     "text": [
      "using device cuda:0\n"
     ]
    }
   ],
   "source": [
    "import os \n",
    "import time\n",
    "import copy\n",
    "\n",
    "import resnet as rnet\n",
    "\n",
    "import torch \n",
    "import torchvision\n",
    "import torchvision.models as models\n",
    "import torchvision.transforms as transforms\n",
    "import torch.nn as nn\n",
    "import torch.nn.init as init\n",
    "import torch.nn.functional as F\n",
    "import torch.optim as optim\n",
    "\n",
    "cuda_available = torch.cuda.is_available()\n",
    "device = torch.device(\"cuda:0\" if cuda_available else \"cpu\")\n",
    "print(f'''using device {device}''')\n",
    "\n",
    "import matplotlib.pyplot as plt\n",
    "import numpy as np"
   ]
  },
  {
   "cell_type": "code",
   "execution_count": 2,
   "metadata": {},
   "outputs": [
    {
     "name": "stdout",
     "output_type": "stream",
     "text": [
      "/home/ola/Documents/DD2424project\n"
     ]
    }
   ],
   "source": [
    "path = !pwd\n",
    "path = path[0]\n",
    "print(path)\n",
    "mdl_savefile = path+\"/models/resnet56_cumultrain_parameters.pickle\"\n",
    "mdl_loadfile = mdl_savefile"
   ]
  },
  {
   "cell_type": "markdown",
   "metadata": {},
   "source": [
    "### Functions "
   ]
  },
  {
   "cell_type": "code",
   "execution_count": 3,
   "metadata": {},
   "outputs": [],
   "source": [
    "def show_model(model):\n",
    "    print(\"Model's state_dict:\")\n",
    "    for param_tensor in model.state_dict():\n",
    "        print(param_tensor, \"\\t\", model.state_dict()[param_tensor].size())\n",
    "def make_oneh(labels):\n",
    "    oneh_labels = np.zeros([labels.shape[0], 10])\n",
    "    indexes = np.array([np.arange(0,labels.shape[0]), labels.numpy()])\n",
    "    oneh_labels[tuple(indexes)] = 1.0\n",
    "    return torch.tensor(oneh_labels).long()\n",
    "def get_xent_acc(prediction, labels):\n",
    "    predicted_labels = np.argmax(prediction.cpu().data.numpy(),1)\n",
    "    (predicted_labels - labels.cpu().data.numpy())\n",
    "    return sum((predicted_labels - labels.cpu().data.numpy()) == 0)/predicted_labels.shape[0]\n",
    "def xent_softmax(prediction):\n",
    "    pred = np.exp(prediction.cpu().data.numpy())\n",
    "    divide = np.repeat(pred.sum(1).reshape(pred.shape[0],1), pred.shape[1],1)\n",
    "    pred = np.divide(pred,divide)\n",
    "    return pred \n",
    "def get_valacc(net, acc_val, loss_val, n_vbatches=1):\n",
    "    with torch.no_grad():\n",
    "        f\"\"\"certain layers have different properties during evaluation e.g dropout. \n",
    "            therefor we use resnet.eval()\"\"\"\n",
    "        loss_xent = nn.CrossEntropyLoss()\n",
    "        net.eval()      \n",
    "        accu = 0\n",
    "        loss = 0\n",
    "        for i, (valimgs, vallabels) in enumerate(dataloader_vl):\n",
    "            if cuda_available: \n",
    "                valimgs   = valimgs.cuda()\n",
    "                vallabels = vallabels.cuda()\n",
    "            valprediction = net.forward(valimgs)  \n",
    "            accu += get_xent_acc(valprediction, vallabels)\n",
    "            loss += loss_xent(valprediction, vallabels)\n",
    "            if i == n_vbatches:\n",
    "                break\n",
    "        loss_val = loss_val + [loss/n_vbatches]\n",
    "        acc_val  = acc_val  + [accu/n_vbatches]\n",
    "        f\"\"\"reset resnet for training with resnet.train()\"\"\"\n",
    "        net.train()\n",
    "    return acc_val, loss_val\n",
    "def compare_parameters(net1, net2):\n",
    "    f\"\"\"compare parameters of two models with the same architecture\"\"\" \n",
    "    net1_param, net2_param, diff = [], [], 0\n",
    "    for param_tensor in net1.state_dict():\n",
    "        net1_param = net1_param + [net1.state_dict()[param_tensor]]\n",
    "        net2_param = net2_param + [net2.state_dict()[param_tensor]]\n",
    "    for i in range(len(net1_param)):\n",
    "        diff = diff + np.sum(net1_param[i].cpu().numpy() - net2_param[i].cpu().numpy())\n",
    "    print(f\"\"\"difference in weights and biases is: {diff} between network1 and network2\"\"\")\n",
    "def load_cifar10(bsize_tr):\n",
    "    bsize_val = 128\n",
    "    torchvision.datasets.CIFAR10(path,download=True)\n",
    "    f\"\"\"adding transform ToTensor(); transforms PIL-images to tensor-format used by PyTorch\"\"\" \n",
    "    transform = transforms.Compose([transforms.ToTensor(), transforms.Normalize([0.5,0.5,0.5],[0.5,0.5,0.5])])\n",
    "    cifar10_train = torchvision.datasets.CIFAR10(path, train=True, transform=transform)\n",
    "    cifar10_valid = torchvision.datasets.CIFAR10(path, train=False,transform=transform)\n",
    "    dataloader_tr = torch.utils.data.DataLoader(cifar10_train,\n",
    "                                              batch_size=bsize_tr,\n",
    "                                              shuffle=True,\n",
    "                                              num_workers=0,\n",
    "                                              pin_memory=True)\n",
    "    dataloader_vl = torch.utils.data.DataLoader(cifar10_valid,\n",
    "                                              batch_size=bsize_val,\n",
    "                                              shuffle=True,\n",
    "                                              num_workers=0,\n",
    "                                              pin_memory=True)\n",
    "    return dataloader_tr, dataloader_vl\n",
    "def cuda(thing):\n",
    "    if cuda_available:\n",
    "        return thing.cuda()\n",
    "    return thing\n",
    "def range_test(net,opt,dataloader,lossfn,min_lr,max_lr,iterations,bsize_tr, momentum=0.9,experiment=0,arch=\"resnet56\"):\n",
    "    scheduler = torch.optim.lr_scheduler.CyclicLR(opt, min_lr, max_lr, \n",
    "                                                  step_size_up=iterations, step_size_down=0, \n",
    "                                                  mode='triangular', cycle_momentum=False, base_momentum=momentum)\n",
    "    start    = time.time()\n",
    "    time_int = 100\n",
    "    \n",
    "    acc_val    = []\n",
    "    loss_val   = [] \n",
    "    n_vbatches = 10\n",
    "    \n",
    "    accuracy  = []\n",
    "    loss      = []\n",
    "    val_int   = 10\n",
    "    i         = 0\n",
    "    while i < iterations:\n",
    "        datait = iter(dataloader)\n",
    "        for n, (images, labels) in enumerate(datait):\n",
    "            images, labels = cuda(images), cuda(labels)\n",
    "            prediction = net.forward(images)\n",
    "            output     = lossfn(prediction, labels)\n",
    "            # Use accuracy on training-set\n",
    "            if i % val_int == 0:\n",
    "                accuracy   = accuracy + [get_xent_acc(prediction, labels)]\n",
    "                loss       = loss + [output]\n",
    "                acc_val, loss_val = get_valacc(net, acc_val, loss_val, n_vbatches=n_vbatches)\n",
    "            opt.zero_grad()   # clear gradients from previous time-step \n",
    "            output.backward() # calculates gradients \n",
    "            opt.step()        # updates weights\n",
    "            scheduler.step()  # change learning-rate in range_optimizer\n",
    "            if i % time_int == 0:\n",
    "                print(f\"time after {i} iterations: {time.time() - start} seconds\")\n",
    "                \n",
    "            i += 1\n",
    "            if i >= iterations:\n",
    "                break\n",
    "            \n",
    "    f\"\"\"make and save plot of accuracy\"\"\"\n",
    "    x1, x2 = [np.linspace(min_lr, max_lr, num) for num in [len(acc_val), len(loss)]]\n",
    "    plt.plot(x1, np.array(acc_val))\n",
    "    momentum = opt.param_groups[-1]['momentum']\n",
    "    weightdecay = opt.param_groups[-1]['weight_decay']\n",
    "    save_file = path+f\"/rangetest/ola/{experiment}acc_bs{bsize_tr}_minlr{min_lr}_maxlr{max_lr}_iterations{iterations}_momentum{momentum}_weightdecy{weightdecay}_acc_val_net{arch}.png\"\n",
    "    plt.savefig(save_file)\n",
    "    plt.show()\n",
    "    return accuracy, loss"
   ]
  },
  {
   "cell_type": "markdown",
   "metadata": {},
   "source": [
    "### learning-rate range-test"
   ]
  },
  {
   "cell_type": "code",
   "execution_count": 4,
   "metadata": {},
   "outputs": [],
   "source": [
    "xp = 9"
   ]
  },
  {
   "cell_type": "code",
   "execution_count": 5,
   "metadata": {},
   "outputs": [],
   "source": [
    "%%capture\n",
    "network = rnet.resnet56()\n",
    "if cuda_available: network.cuda()"
   ]
  },
  {
   "cell_type": "code",
   "execution_count": 6,
   "metadata": {},
   "outputs": [
    {
     "name": "stdout",
     "output_type": "stream",
     "text": [
      "Conv2d\n",
      "BatchNorm2d\n",
      "Conv2d\n",
      "BatchNorm2d\n",
      "Conv2d\n",
      "BatchNorm2d\n",
      "Sequential\n",
      "BasicBlock\n",
      "Conv2d\n",
      "BatchNorm2d\n",
      "Conv2d\n",
      "BatchNorm2d\n",
      "Sequential\n",
      "BasicBlock\n",
      "Conv2d\n",
      "BatchNorm2d\n",
      "Conv2d\n",
      "BatchNorm2d\n",
      "Sequential\n",
      "BasicBlock\n",
      "Conv2d\n",
      "BatchNorm2d\n",
      "Conv2d\n",
      "BatchNorm2d\n",
      "Sequential\n",
      "BasicBlock\n",
      "Conv2d\n",
      "BatchNorm2d\n",
      "Conv2d\n",
      "BatchNorm2d\n",
      "Sequential\n",
      "BasicBlock\n",
      "Conv2d\n",
      "BatchNorm2d\n",
      "Conv2d\n",
      "BatchNorm2d\n",
      "Sequential\n",
      "BasicBlock\n",
      "Conv2d\n",
      "BatchNorm2d\n",
      "Conv2d\n",
      "BatchNorm2d\n",
      "Sequential\n",
      "BasicBlock\n",
      "Conv2d\n",
      "BatchNorm2d\n",
      "Conv2d\n",
      "BatchNorm2d\n",
      "Sequential\n",
      "BasicBlock\n",
      "Conv2d\n",
      "BatchNorm2d\n",
      "Conv2d\n",
      "BatchNorm2d\n",
      "Sequential\n",
      "BasicBlock\n",
      "Sequential\n",
      "Conv2d\n",
      "BatchNorm2d\n",
      "Conv2d\n",
      "BatchNorm2d\n",
      "LambdaLayer\n",
      "BasicBlock\n",
      "Conv2d\n",
      "BatchNorm2d\n",
      "Conv2d\n",
      "BatchNorm2d\n",
      "Sequential\n",
      "BasicBlock\n",
      "Conv2d\n",
      "BatchNorm2d\n",
      "Conv2d\n",
      "BatchNorm2d\n",
      "Sequential\n",
      "BasicBlock\n",
      "Conv2d\n",
      "BatchNorm2d\n",
      "Conv2d\n",
      "BatchNorm2d\n",
      "Sequential\n",
      "BasicBlock\n",
      "Conv2d\n",
      "BatchNorm2d\n",
      "Conv2d\n",
      "BatchNorm2d\n",
      "Sequential\n",
      "BasicBlock\n",
      "Conv2d\n",
      "BatchNorm2d\n",
      "Conv2d\n",
      "BatchNorm2d\n",
      "Sequential\n",
      "BasicBlock\n",
      "Conv2d\n",
      "BatchNorm2d\n",
      "Conv2d\n",
      "BatchNorm2d\n",
      "Sequential\n",
      "BasicBlock\n",
      "Conv2d\n",
      "BatchNorm2d\n",
      "Conv2d\n",
      "BatchNorm2d\n",
      "Sequential\n",
      "BasicBlock\n",
      "Conv2d\n",
      "BatchNorm2d\n",
      "Conv2d\n",
      "BatchNorm2d\n",
      "Sequential\n",
      "BasicBlock\n",
      "Sequential\n",
      "Conv2d\n",
      "BatchNorm2d\n",
      "Conv2d\n",
      "BatchNorm2d\n",
      "LambdaLayer\n",
      "BasicBlock\n",
      "Conv2d\n",
      "BatchNorm2d\n",
      "Conv2d\n",
      "BatchNorm2d\n",
      "Sequential\n",
      "BasicBlock\n",
      "Conv2d\n",
      "BatchNorm2d\n",
      "Conv2d\n",
      "BatchNorm2d\n",
      "Sequential\n",
      "BasicBlock\n",
      "Conv2d\n",
      "BatchNorm2d\n",
      "Conv2d\n",
      "BatchNorm2d\n",
      "Sequential\n",
      "BasicBlock\n",
      "Conv2d\n",
      "BatchNorm2d\n",
      "Conv2d\n",
      "BatchNorm2d\n",
      "Sequential\n",
      "BasicBlock\n",
      "Conv2d\n",
      "BatchNorm2d\n",
      "Conv2d\n",
      "BatchNorm2d\n",
      "Sequential\n",
      "BasicBlock\n",
      "Conv2d\n",
      "BatchNorm2d\n",
      "Conv2d\n",
      "BatchNorm2d\n",
      "Sequential\n",
      "BasicBlock\n",
      "Conv2d\n",
      "BatchNorm2d\n",
      "Conv2d\n",
      "BatchNorm2d\n",
      "Sequential\n",
      "BasicBlock\n",
      "Conv2d\n",
      "BatchNorm2d\n",
      "Conv2d\n",
      "BatchNorm2d\n",
      "Sequential\n",
      "BasicBlock\n",
      "Sequential\n",
      "Linear\n",
      "ResNet\n",
      "Files already downloaded and verified\n",
      "time after 0 iterations: 0.832146167755127 seconds\n",
      "time after 100 iterations: 9.237383365631104 seconds\n",
      "time after 200 iterations: 17.398035287857056 seconds\n",
      "time after 300 iterations: 25.555728673934937 seconds\n",
      "time after 400 iterations: 33.69840455055237 seconds\n",
      "time after 500 iterations: 41.89350605010986 seconds\n",
      "time after 600 iterations: 50.06966304779053 seconds\n",
      "time after 700 iterations: 58.24731111526489 seconds\n",
      "time after 800 iterations: 66.48949790000916 seconds\n",
      "time after 900 iterations: 74.67046213150024 seconds\n",
      "time after 1000 iterations: 82.8549416065216 seconds\n",
      "time after 1100 iterations: 91.05414462089539 seconds\n",
      "time after 1200 iterations: 99.25282406806946 seconds\n",
      "time after 1300 iterations: 107.46107769012451 seconds\n",
      "time after 1400 iterations: 115.6892557144165 seconds\n",
      "time after 1500 iterations: 123.86813044548035 seconds\n",
      "time after 1600 iterations: 132.05557012557983 seconds\n",
      "time after 1700 iterations: 140.24545192718506 seconds\n",
      "time after 1800 iterations: 148.4304838180542 seconds\n",
      "time after 1900 iterations: 156.60835671424866 seconds\n",
      "time after 2000 iterations: 164.77587747573853 seconds\n",
      "time after 2100 iterations: 172.95702409744263 seconds\n",
      "time after 2200 iterations: 181.1711356639862 seconds\n",
      "time after 2300 iterations: 189.42647337913513 seconds\n",
      "time after 2400 iterations: 197.61215043067932 seconds\n",
      "time after 2500 iterations: 205.80593395233154 seconds\n",
      "time after 2600 iterations: 214.01858758926392 seconds\n",
      "time after 2700 iterations: 222.36766695976257 seconds\n",
      "time after 2800 iterations: 230.61487197875977 seconds\n",
      "time after 2900 iterations: 238.9742636680603 seconds\n",
      "time after 3000 iterations: 247.19634127616882 seconds\n",
      "time after 3100 iterations: 255.4965353012085 seconds\n",
      "time after 3200 iterations: 263.9228706359863 seconds\n",
      "time after 3300 iterations: 272.3925721645355 seconds\n",
      "time after 3400 iterations: 280.85538625717163 seconds\n",
      "time after 3500 iterations: 289.5413177013397 seconds\n",
      "time after 3600 iterations: 297.9169476032257 seconds\n",
      "time after 3700 iterations: 306.3036279678345 seconds\n",
      "time after 3800 iterations: 314.92255449295044 seconds\n",
      "time after 3900 iterations: 323.39792919158936 seconds\n"
     ]
    },
    {
     "data": {
      "image/png": "[encoded data removed]",
      "text/plain": [
       "<Figure size 432x288 with 1 Axes>"
      ]
     },
     "metadata": {
      "needs_background": "light"
     },
     "output_type": "display_data"
    },
    {
     "name": "stdout",
     "output_type": "stream",
     "text": [
      "Conv2d\n",
      "BatchNorm2d\n",
      "Conv2d\n",
      "BatchNorm2d\n",
      "Conv2d\n",
      "BatchNorm2d\n",
      "Sequential\n",
      "BasicBlock\n",
      "Conv2d\n",
      "BatchNorm2d\n",
      "Conv2d\n",
      "BatchNorm2d\n",
      "Sequential\n",
      "BasicBlock\n",
      "Conv2d\n",
      "BatchNorm2d\n",
      "Conv2d\n",
      "BatchNorm2d\n",
      "Sequential\n",
      "BasicBlock\n",
      "Conv2d\n",
      "BatchNorm2d\n",
      "Conv2d\n",
      "BatchNorm2d\n",
      "Sequential\n",
      "BasicBlock\n",
      "Conv2d\n",
      "BatchNorm2d\n",
      "Conv2d\n",
      "BatchNorm2d\n",
      "Sequential\n",
      "BasicBlock\n",
      "Conv2d\n",
      "BatchNorm2d\n",
      "Conv2d\n",
      "BatchNorm2d\n",
      "Sequential\n",
      "BasicBlock\n",
      "Conv2d\n",
      "BatchNorm2d\n",
      "Conv2d\n",
      "BatchNorm2d\n",
      "Sequential\n",
      "BasicBlock\n",
      "Conv2d\n",
      "BatchNorm2d\n",
      "Conv2d\n",
      "BatchNorm2d\n",
      "Sequential\n",
      "BasicBlock\n",
      "Conv2d\n",
      "BatchNorm2d\n",
      "Conv2d\n",
      "BatchNorm2d\n",
      "Sequential\n",
      "BasicBlock\n",
      "Sequential\n",
      "Conv2d\n",
      "BatchNorm2d\n",
      "Conv2d\n",
      "BatchNorm2d\n",
      "LambdaLayer\n",
      "BasicBlock\n",
      "Conv2d\n",
      "BatchNorm2d\n",
      "Conv2d\n",
      "BatchNorm2d\n",
      "Sequential\n",
      "BasicBlock\n",
      "Conv2d\n",
      "BatchNorm2d\n",
      "Conv2d\n",
      "BatchNorm2d\n",
      "Sequential\n",
      "BasicBlock\n",
      "Conv2d\n",
      "BatchNorm2d\n",
      "Conv2d\n",
      "BatchNorm2d\n",
      "Sequential\n",
      "BasicBlock\n",
      "Conv2d\n",
      "BatchNorm2d\n",
      "Conv2d\n",
      "BatchNorm2d\n",
      "Sequential\n",
      "BasicBlock\n",
      "Conv2d\n",
      "BatchNorm2d\n",
      "Conv2d\n",
      "BatchNorm2d\n",
      "Sequential\n",
      "BasicBlock\n",
      "Conv2d\n",
      "BatchNorm2d\n",
      "Conv2d\n",
      "BatchNorm2d\n",
      "Sequential\n",
      "BasicBlock\n",
      "Conv2d\n",
      "BatchNorm2d\n",
      "Conv2d\n",
      "BatchNorm2d\n",
      "Sequential\n",
      "BasicBlock\n",
      "Conv2d\n",
      "BatchNorm2d\n",
      "Conv2d\n",
      "BatchNorm2d\n",
      "Sequential\n",
      "BasicBlock\n",
      "Sequential\n",
      "Conv2d\n",
      "BatchNorm2d\n",
      "Conv2d\n",
      "BatchNorm2d\n",
      "LambdaLayer\n",
      "BasicBlock\n",
      "Conv2d\n",
      "BatchNorm2d\n",
      "Conv2d\n",
      "BatchNorm2d\n",
      "Sequential\n",
      "BasicBlock\n",
      "Conv2d\n",
      "BatchNorm2d\n",
      "Conv2d\n",
      "BatchNorm2d\n",
      "Sequential\n",
      "BasicBlock\n",
      "Conv2d\n",
      "BatchNorm2d\n",
      "Conv2d\n",
      "BatchNorm2d\n",
      "Sequential\n",
      "BasicBlock\n",
      "Conv2d\n",
      "BatchNorm2d\n",
      "Conv2d\n",
      "BatchNorm2d\n",
      "Sequential\n",
      "BasicBlock\n",
      "Conv2d\n",
      "BatchNorm2d\n",
      "Conv2d\n",
      "BatchNorm2d\n",
      "Sequential\n",
      "BasicBlock\n",
      "Conv2d\n",
      "BatchNorm2d\n",
      "Conv2d\n",
      "BatchNorm2d\n",
      "Sequential\n",
      "BasicBlock\n",
      "Conv2d\n",
      "BatchNorm2d\n",
      "Conv2d\n",
      "BatchNorm2d\n",
      "Sequential\n",
      "BasicBlock\n",
      "Conv2d\n",
      "BatchNorm2d\n",
      "Conv2d\n",
      "BatchNorm2d\n",
      "Sequential\n",
      "BasicBlock\n",
      "Sequential\n",
      "Linear\n",
      "ResNet\n",
      "Files already downloaded and verified\n",
      "time after 0 iterations: 0.6871545314788818 seconds\n",
      "time after 100 iterations: 40.24907207489014 seconds\n",
      "time after 200 iterations: 78.98963165283203 seconds\n",
      "time after 300 iterations: 117.52483439445496 seconds\n",
      "time after 400 iterations: 155.9661476612091 seconds\n",
      "time after 500 iterations: 194.71338987350464 seconds\n",
      "time after 600 iterations: 233.47553396224976 seconds\n",
      "time after 700 iterations: 272.0359706878662 seconds\n",
      "time after 800 iterations: 310.5972013473511 seconds\n",
      "time after 900 iterations: 349.3277907371521 seconds\n",
      "time after 1000 iterations: 387.88700819015503 seconds\n",
      "time after 1100 iterations: 426.44750142097473 seconds\n",
      "time after 1200 iterations: 465.1149687767029 seconds\n",
      "time after 1300 iterations: 503.6717014312744 seconds\n",
      "time after 1400 iterations: 542.198370218277 seconds\n",
      "time after 1500 iterations: 580.8324027061462 seconds\n",
      "time after 1600 iterations: 619.3116800785065 seconds\n",
      "time after 1700 iterations: 657.6819126605988 seconds\n",
      "time after 1800 iterations: 696.1599304676056 seconds\n",
      "time after 1900 iterations: 734.5554373264313 seconds\n",
      "time after 2000 iterations: 772.9625165462494 seconds\n",
      "time after 2100 iterations: 811.4726707935333 seconds\n",
      "time after 2200 iterations: 849.9860682487488 seconds\n",
      "time after 2300 iterations: 888.3991553783417 seconds\n",
      "time after 2400 iterations: 926.8189208507538 seconds\n",
      "time after 2500 iterations: 966.4359860420227 seconds\n",
      "time after 2600 iterations: 1007.2999665737152 seconds\n",
      "time after 2700 iterations: 1045.7305986881256 seconds\n",
      "time after 2800 iterations: 1084.325805902481 seconds\n",
      "time after 2900 iterations: 1122.7644393444061 seconds\n",
      "time after 3000 iterations: 1161.190903186798 seconds\n",
      "time after 3100 iterations: 1199.7035887241364 seconds\n",
      "time after 3200 iterations: 1238.1135611534119 seconds\n",
      "time after 3300 iterations: 1276.5239322185516 seconds\n",
      "time after 3400 iterations: 1315.1098079681396 seconds\n",
      "time after 3500 iterations: 1353.533448457718 seconds\n",
      "time after 3600 iterations: 1391.9595084190369 seconds\n",
      "time after 3700 iterations: 1430.5197796821594 seconds\n",
      "time after 3800 iterations: 1470.5613458156586 seconds\n",
      "time after 3900 iterations: 1509.6435878276825 seconds\n"
     ]
    },
    {
     "data": {
      "image/png": "[encoded data removed]",
      "text/plain": [
       "<Figure size 432x288 with 1 Axes>"
      ]
     },
     "metadata": {
      "needs_background": "light"
     },
     "output_type": "display_data"
    }
   ],
   "source": [
    "max_lr = 1e-9\n",
    "min_lr = 1.5e1\n",
    "iterations = 4000\n",
    "lossfn = nn.CrossEntropyLoss()\n",
    "weightdecay = 0\n",
    "momentum=0\n",
    "for batchsize in [128, 1024]:\n",
    "    network = rnet.resnet56()\n",
    "    if cuda_available: network.cuda()\n",
    "    optimizer = optim.SGD(network.parameters(), lr=min_lr)\n",
    "    xp += 1\n",
    "    dataloader_tr, dataloader_vl = load_cifar10(batchsize)\n",
    "    accuracy, loss = range_test(network,optimizer,dataloader_tr,lossfn,max_lr,min_lr,iterations,batchsize,experiment=xp,arch=\"resnet56\")"
   ]
  },
  {
   "cell_type": "code",
   "execution_count": 15,
   "metadata": {},
   "outputs": [
    {
     "data": {
      "text/plain": [
       "[<matplotlib.lines.Line2D at 0x7fcef2541f60>]"
      ]
     },
     "execution_count": 15,
     "metadata": {},
     "output_type": "execute_result"
    },
    {
     "data": {
      "image/png": "[encoded data removed]",
      "text/plain": [
       "<Figure size 432x288 with 1 Axes>"
      ]
     },
     "metadata": {
      "needs_background": "light"
     },
     "output_type": "display_data"
    }
   ],
   "source": [
    "x1, x2 = [np.linspace(max_lr, min_lr, num) for num in [len(accuracy), len(loss)]]\n",
    "plt.plot(x1, np.array(accuracy))"
   ]
  },
  {
   "cell_type": "code",
   "execution_count": 17,
   "metadata": {},
   "outputs": [
    {
     "data": {
      "text/plain": [
       "0.986328125"
      ]
     },
     "execution_count": 17,
     "metadata": {},
     "output_type": "execute_result"
    }
   ],
   "source": [
    "accuracy[-1]"
   ]
  },
  {
   "cell_type": "code",
   "execution_count": 16,
   "metadata": {},
   "outputs": [
    {
     "data": {
      "text/plain": [
       "[<matplotlib.lines.Line2D at 0x7fcef267c828>]"
      ]
     },
     "execution_count": 16,
     "metadata": {},
     "output_type": "execute_result"
    },
    {
     "data": {
      "image/png": "[encoded data removed]",
      "text/plain": [
       "<Figure size 432x288 with 1 Axes>"
      ]
     },
     "metadata": {
      "needs_background": "light"
     },
     "output_type": "display_data"
    }
   ],
   "source": [
    "plt.plot(x2, np.array(loss))"
   ]
  },
  {
   "cell_type": "code",
   "execution_count": 12,
   "metadata": {},
   "outputs": [
    {
     "data": {
      "text/plain": [
       "tensor(0.0407, device='cuda:0', grad_fn=<NllLossBackward>)"
      ]
     },
     "execution_count": 12,
     "metadata": {},
     "output_type": "execute_result"
    }
   ],
   "source": [
    "np.array(loss)[-1]"
   ]
  },
  {
   "cell_type": "markdown",
   "metadata": {},
   "source": [
    "### load-data"
   ]
  },
  {
   "cell_type": "code",
   "execution_count": null,
   "metadata": {},
   "outputs": [],
   "source": [
    "batchsize = 128\n",
    "dataloader_tr, dataloader_vl = load_cifar10(batchsize)"
   ]
  },
  {
   "cell_type": "markdown",
   "metadata": {},
   "source": [
    "### network "
   ]
  },
  {
   "cell_type": "code",
   "execution_count": null,
   "metadata": {},
   "outputs": [],
   "source": [
    "%%capture\n",
    "f\"\"\"To get ResNet56 use ResNet(BasicBlock,[9,9,9])\"\"\" \n",
    "resnet56 = ResNet(BasicBlock,[9,9,9])\n",
    "if cuda_available: resnet56.cuda()"
   ]
  },
  {
   "cell_type": "markdown",
   "metadata": {},
   "source": [
    "### loss-function    https://medium.com/udacity-pytorch-challengers/a-brief-overview-of-loss-functions-in-pytorch-c0ddb78068f7"
   ]
  },
  {
   "cell_type": "code",
   "execution_count": null,
   "metadata": {},
   "outputs": [],
   "source": [
    "loss_xent = nn.CrossEntropyLoss()"
   ]
  },
  {
   "cell_type": "markdown",
   "metadata": {},
   "source": [
    "### optimize-function https://pytorch.org/docs/stable/optim.html"
   ]
  },
  {
   "cell_type": "code",
   "execution_count": null,
   "metadata": {},
   "outputs": [],
   "source": [
    "optimizer = optim.SGD(resnet56.parameters(), lr=0.1, momentum=0.9, weight_decay=1e-4)"
   ]
  },
  {
   "cell_type": "markdown",
   "metadata": {},
   "source": [
    "# play with forward and backwards pass"
   ]
  },
  {
   "cell_type": "code",
   "execution_count": null,
   "metadata": {},
   "outputs": [],
   "source": [
    "start    = time.time()\n",
    "f\"\"\"load previous model\"\"\"\n",
    "# if os.path.isfile(load_filename):\n",
    "#     resnet.load_state_dict(torch.load(load_filename))\n",
    "n_epoch  = 1\n",
    "validation_interval = 10\n",
    "\n",
    "trainacc  = [] \n",
    "valacc    = [] \n",
    "trainloss = []\n",
    "valloss   = [] \n",
    "\n",
    "for epoch in range(n_epoch):\n",
    "    train_iterator = iter(train_data_loader)\n",
    "    for i in range(len(train_iterator)):\n",
    "        images, labels = train_iterator.next()\n",
    "        \n",
    "        f\"\"\"if we use GPU, input- and target-tensors must be loaded on GPU as well.\"\"\"\n",
    "        if cuda_available: images, labels = images.cuda(), labels.cuda()\n",
    "            \n",
    "        prediction = resnet.forward(images)\n",
    "        output     = loss_xent(prediction, labels)\n",
    "        \n",
    "        trainacc = trainacc + [get_xent_acc(prediction, labels)]\n",
    "        trainloss = trainloss + [output]\n",
    "        \n",
    "        f\"\"\"using zero_grad() seems to be necessary. step() does not clear the gradients\"\"\"\n",
    "        optimizer.zero_grad()\n",
    "        output.backward() # calculates gradients \n",
    "        optimizer.step()  # updates weights\n",
    "        \n",
    "        if i % validation_interval == 0:\n",
    "            valacc, valloss = get_valacc(valacc, valloss)\n",
    "            \n",
    "    print(f\"\"\"time passed after training {epoch+1} epochs is {time.time()-start} seconds\"\"\")"
   ]
  },
  {
   "cell_type": "markdown",
   "metadata": {},
   "source": [
    "### Plot results "
   ]
  },
  {
   "cell_type": "code",
   "execution_count": null,
   "metadata": {},
   "outputs": [],
   "source": [
    "x1, x2, x3 = [np.linspace(0, len(trainacc), num) for num in [len(trainloss), len(trainacc), len(valacc)]]"
   ]
  },
  {
   "cell_type": "code",
   "execution_count": null,
   "metadata": {},
   "outputs": [],
   "source": [
    "plt.plot(x1,np.array(trainloss))\n",
    "plt.show()"
   ]
  },
  {
   "cell_type": "code",
   "execution_count": null,
   "metadata": {},
   "outputs": [],
   "source": [
    "plt.plot(x2,np.array(trainacc))\n",
    "plt.plot(x3,np.array(valacc))\n",
    "plt.show()"
   ]
  },
  {
   "cell_type": "markdown",
   "metadata": {},
   "source": [
    "### Save/Load Model\n",
    "### https://pytorch.org/tutorials/beginner/saving_loading_models.html"
   ]
  },
  {
   "cell_type": "code",
   "execution_count": null,
   "metadata": {},
   "outputs": [],
   "source": [
    "%%capture \n",
    "f\"\"\"save\"\"\"\n",
    "torch.save(resnet.state_dict(), save_filename)\n",
    "f\"\"\"load\"\"\"\n",
    "resnet2 = ResNet(BasicBlock,[9,9,9])\n",
    "resnet2.load_state_dict(torch.load(load_filename))\n",
    "compare_parameters(resnet,resnet2)"
   ]
  },
  {
   "cell_type": "markdown",
   "metadata": {},
   "source": [
    "#### DenseNet"
   ]
  },
  {
   "cell_type": "code",
   "execution_count": null,
   "metadata": {},
   "outputs": [],
   "source": [
    "def imshow(img):\n",
    "    img = img / 2 + 0.5     # unnormalize\n",
    "    npimg = img.numpy()\n",
    "    plt.imshow(np.transpose(npimg, (1, 2, 0)))"
   ]
  },
  {
   "cell_type": "code",
   "execution_count": null,
   "metadata": {},
   "outputs": [],
   "source": [
    "imshow(torchvision.utils.make_grid(images.cpu()))"
   ]
  },
  {
   "cell_type": "code",
   "execution_count": null,
   "metadata": {},
   "outputs": [],
   "source": [
    "densenet = models.densenet161()"
   ]
  },
  {
   "cell_type": "code",
   "execution_count": null,
   "metadata": {},
   "outputs": [],
   "source": []
  }
 ],
 "metadata": {
  "kernelspec": {
   "display_name": "Python 3",
   "language": "python",
   "name": "python3"
  },
  "language_info": {
   "codemirror_mode": {
    "name": "ipython",
    "version": 3
   },
   "file_extension": ".py",
   "mimetype": "text/x-python",
   "name": "python",
   "nbconvert_exporter": "python",
   "pygments_lexer": "ipython3",
   "version": "3.7.3"
  }
 },
 "nbformat": 4,
 "nbformat_minor": 2
}
